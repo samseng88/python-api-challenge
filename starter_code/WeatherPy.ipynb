{
 "cells": [
  {
   "cell_type": "markdown",
   "metadata": {},
   "source": [
    "# WeatherPy\n",
    "----\n",
    "\n",
    "#### Note\n",
    "* Instructions have been included for each segment. You do not have to follow them exactly, but they are included to help you think through the steps.\n"
   ]
  },
  {
   "cell_type": "markdown",
   "metadata": {},
   "source": [
    "## Observable Trends\n",
    "\n",
    "-------\n",
    "\n",
    "1. The temperature and humidity in the southern hemisphere was higher than in the northern hemisphere according to the city latitude as show in Latitude vs Temperature plot and Latitude vs Humidity plot chart. This is due to the southern hemispheres consists of areas with tropical weather.\n",
    "\n",
    "2. Regions near the equator have by low wind speed and mid-latitudes experience much faster airflow and windspeed. This is because warm equatorial air rises higher into the atmosphere and migrates toward the poles. Cooler and denser air moves over Earth's surface toward the Equator to replace the heated air.\n",
    "\n",
    "3. There seems to be no strong correlation between latitude and cloudiness as show in the chart below. "
   ]
  },
  {
   "cell_type": "code",
   "execution_count": 1,
   "metadata": {
    "scrolled": true
   },
   "outputs": [],
   "source": [
    "# Dependencies and Setup\n",
    "import matplotlib.pyplot as plt\n",
    "import pandas as pd\n",
    "import numpy as np\n",
    "import requests\n",
    "import time\n",
    "from scipy.stats import linregress\n",
    "import os\n",
    "\n",
    "# Import API key\n",
    "from api_keys import weather_api_key\n",
    "\n",
    "# Incorporated citipy to determine city based on latitude and longitude\n",
    "from citipy import citipy\n",
    "\n",
    "# Output File (CSV)\n",
    "output_data_file = \"output_data/cities.csv\"\n",
    "\n",
    "# Range of latitudes and longitudes\n",
    "lat_range = (-90, 90)\n",
    "lng_range = (-180, 180)"
   ]
  },
  {
   "cell_type": "markdown",
   "metadata": {},
   "source": [
    "## Generate Cities List"
   ]
  },
  {
   "cell_type": "code",
   "execution_count": 2,
   "metadata": {},
   "outputs": [
    {
     "name": "stdout",
     "output_type": "stream",
     "text": [
      "641\n"
     ]
    }
   ],
   "source": [
    "# List for holding lat_lngs and cities\n",
    "lat_lng = []\n",
    "cities = []\n",
    "\n",
    "# Create a set of random lat and lng combinations\n",
    "lats = np.random.uniform(lat_range[0], lat_range[1], size=1500)\n",
    "lngs = np.random.uniform(lng_range[0], lng_range[1], size=1500)\n",
    "lat_lngs = zip(lats, lngs)\n",
    "\n",
    "# Identify nearest city for each lat, lng combination\n",
    "for lat_lng in lat_lngs:\n",
    "    city = citipy.nearest_city(lat_lng[0], lat_lng[1]).city_name\n",
    "    \n",
    "    # If the city is unique, then add it to a our cities list\n",
    "    if city not in cities:\n",
    "        cities.append(city)\n",
    "\n",
    "# Print the city count to confirm sufficient count\n",
    "print(len(cities))"
   ]
  },
  {
   "cell_type": "markdown",
   "metadata": {},
   "source": [
    "### Perform API Calls\n",
    "* Perform a weather check on each city using a series of successive API calls.\n",
    "* Include a print log of each city as it'sbeing processed (with the city number and city name).\n"
   ]
  },
  {
   "cell_type": "code",
   "execution_count": 3,
   "metadata": {
    "scrolled": true
   },
   "outputs": [],
   "source": [
    "##This is most similar to Day 2 Activity 5\n",
    "## create an empty list, loop through the cities list from previous cell calling the \n",
    "#base_url = \"http://api.openweathermap.org/data/2.5/weather?units=Imperial&APPID=\" + weather_api_key\n",
    "\n",
    "base_url = \"http://api.openweathermap.org/data/2.5/weather?\"\n",
    "units = \"imperial\"\n",
    "query_url = f\"{base_url}appid={weather_api_key}&units={units}&q=\"\n",
    "\n",
    "city_name = []\n",
    "cloudiness = []\n",
    "country = []\n",
    "date = []\n",
    "humidity = []\n",
    "lat_list = []\n",
    "lng_list = []\n",
    "max_temp = []\n",
    "wind_speed = []\n",
    "index_counter = 0\n",
    "set_counter = 1\n"
   ]
  },
  {
   "cell_type": "code",
   "execution_count": 4,
   "metadata": {},
   "outputs": [
    {
     "name": "stdout",
     "output_type": "stream",
     "text": [
      "Beginning Data Retrieval \n",
      "--------------------------------\n",
      "Processing Record 1 of Set 1 : punta arenas\n",
      "Processing Record 2 of Set 1 : portland\n",
      "Processing Record 3 of Set 1 : chokurdakh\n",
      "Processing Record 4 of Set 1 : college\n",
      "Processing Record 5 of Set 1 : nouakchott\n",
      "Processing Record 6 of Set 1 : belaya gora\n",
      "Processing Record 7 of Set 1 : namibe\n",
      "Processing Record 8 of Set 1 : lebu\n",
      "Processing Record 9 of Set 1 : ukiah\n",
      "Processing Record 10 of Set 1 : katherine\n",
      "Processing Record 11 of Set 1 : atuona\n",
      "Processing Record 12 of Set 1 : nome\n",
      "City not found. Skipping...\n",
      "Processing Record 13 of Set 1 : sakakah\n",
      "Processing Record 14 of Set 1 : castro\n",
      "Processing Record 15 of Set 1 : rikitea\n",
      "Processing Record 16 of Set 1 : kruisfontein\n",
      "City not found. Skipping...\n",
      "Processing Record 17 of Set 1 : tiksi\n",
      "Processing Record 18 of Set 1 : hilo\n",
      "Processing Record 19 of Set 1 : aykhal\n",
      "Processing Record 20 of Set 1 : inhambane\n",
      "Processing Record 21 of Set 1 : mataura\n",
      "Processing Record 22 of Set 1 : gwadar\n",
      "Processing Record 23 of Set 1 : bilibino\n",
      "Processing Record 24 of Set 1 : petropavlovsk-kamchatskiy\n",
      "Processing Record 25 of Set 1 : tezu\n",
      "Processing Record 26 of Set 1 : narsaq\n",
      "Processing Record 27 of Set 1 : padang\n",
      "Processing Record 28 of Set 1 : hithadhoo\n",
      "Processing Record 29 of Set 1 : semey\n",
      "Processing Record 30 of Set 1 : mahebourg\n",
      "Processing Record 31 of Set 1 : opuwo\n",
      "Processing Record 32 of Set 1 : torbay\n",
      "Processing Record 33 of Set 1 : pitimbu\n",
      "Processing Record 34 of Set 1 : batemans bay\n",
      "City not found. Skipping...\n",
      "City not found. Skipping...\n",
      "Processing Record 35 of Set 1 : katsuura\n",
      "City not found. Skipping...\n",
      "Processing Record 36 of Set 1 : east london\n",
      "Processing Record 37 of Set 1 : hermanus\n",
      "Processing Record 38 of Set 1 : carnarvon\n",
      "Processing Record 39 of Set 1 : pekalongan\n",
      "Processing Record 40 of Set 1 : skjervoy\n",
      "Processing Record 41 of Set 1 : ancud\n",
      "Processing Record 42 of Set 1 : brae\n",
      "Processing Record 43 of Set 1 : san patricio\n",
      "Processing Record 44 of Set 1 : jamestown\n",
      "Processing Record 45 of Set 1 : ushuaia\n",
      "Processing Record 46 of Set 1 : ostrovnoy\n",
      "Processing Record 47 of Set 1 : cherskiy\n",
      "Processing Record 48 of Set 1 : thompson\n",
      "Processing Record 49 of Set 1 : buala\n",
      "Processing Record 50 of Set 1 : puerto ayora\n",
      "City not found. Skipping...\n",
      "Processing Record 0 of Set 2 : faanui\n",
      "Processing Record 1 of Set 2 : hami\n",
      "Processing Record 2 of Set 2 : vieux-habitants\n",
      "Processing Record 3 of Set 2 : sioux lookout\n",
      "Processing Record 4 of Set 2 : muros\n",
      "Processing Record 5 of Set 2 : umm kaddadah\n",
      "Processing Record 6 of Set 2 : dingle\n",
      "Processing Record 7 of Set 2 : leningradskiy\n",
      "Processing Record 8 of Set 2 : saskylakh\n",
      "Processing Record 9 of Set 2 : lidkoping\n",
      "Processing Record 10 of Set 2 : kaitangata\n",
      "Processing Record 11 of Set 2 : coihaique\n",
      "Processing Record 12 of Set 2 : manaus\n",
      "Processing Record 13 of Set 2 : chuy\n",
      "Processing Record 14 of Set 2 : bluff\n",
      "Processing Record 15 of Set 2 : mumford\n",
      "Processing Record 16 of Set 2 : tuktoyaktuk\n",
      "Processing Record 17 of Set 2 : saint anthony\n",
      "Processing Record 18 of Set 2 : liverpool\n",
      "Processing Record 19 of Set 2 : guerrero negro\n",
      "Processing Record 20 of Set 2 : vaini\n",
      "Processing Record 21 of Set 2 : albany\n",
      "Processing Record 22 of Set 2 : port blair\n",
      "Processing Record 23 of Set 2 : new norfolk\n",
      "Processing Record 24 of Set 2 : murmashi\n",
      "Processing Record 25 of Set 2 : dudinka\n",
      "Processing Record 26 of Set 2 : krasnoarmeysk\n",
      "Processing Record 27 of Set 2 : mosquera\n",
      "Processing Record 28 of Set 2 : labuhan\n",
      "Processing Record 29 of Set 2 : hamilton\n",
      "Processing Record 30 of Set 2 : gibraleon\n",
      "Processing Record 31 of Set 2 : butaritari\n",
      "Processing Record 32 of Set 2 : hofn\n",
      "City not found. Skipping...\n",
      "Processing Record 33 of Set 2 : port alfred\n",
      "City not found. Skipping...\n",
      "Processing Record 34 of Set 2 : aklavik\n",
      "Processing Record 35 of Set 2 : silute\n",
      "Processing Record 36 of Set 2 : los llanos de aridane\n",
      "Processing Record 37 of Set 2 : alofi\n",
      "Processing Record 38 of Set 2 : hammerfest\n",
      "Processing Record 39 of Set 2 : cidreira\n",
      "Processing Record 40 of Set 2 : batagay\n",
      "Processing Record 41 of Set 2 : ilulissat\n",
      "Processing Record 42 of Set 2 : atar\n",
      "Processing Record 43 of Set 2 : valparaiso\n",
      "Processing Record 44 of Set 2 : kapaa\n",
      "Processing Record 45 of Set 2 : saint-philippe\n",
      "Processing Record 46 of Set 2 : cockburn town\n",
      "Processing Record 47 of Set 2 : norman wells\n",
      "Processing Record 48 of Set 2 : suez\n",
      "Processing Record 49 of Set 2 : busselton\n",
      "Processing Record 50 of Set 2 : pisco\n",
      "Processing Record 0 of Set 3 : mayo\n",
      "Processing Record 1 of Set 3 : moindou\n",
      "Processing Record 2 of Set 3 : lipari\n",
      "Processing Record 3 of Set 3 : itoman\n",
      "City not found. Skipping...\n",
      "Processing Record 4 of Set 3 : san quintin\n",
      "Processing Record 5 of Set 3 : carmo do rio claro\n",
      "Processing Record 6 of Set 3 : nikolskoye\n",
      "Processing Record 7 of Set 3 : barrow\n",
      "Processing Record 8 of Set 3 : kavieng\n",
      "Processing Record 9 of Set 3 : bredasdorp\n",
      "Processing Record 10 of Set 3 : alta floresta\n",
      "City not found. Skipping...\n",
      "Processing Record 11 of Set 3 : corrente\n",
      "Processing Record 12 of Set 3 : opole\n",
      "Processing Record 13 of Set 3 : kodiak\n",
      "Processing Record 14 of Set 3 : tilichiki\n",
      "Processing Record 15 of Set 3 : port lincoln\n",
      "Processing Record 16 of Set 3 : qaanaaq\n",
      "Processing Record 17 of Set 3 : clyde river\n",
      "Processing Record 18 of Set 3 : entre rios\n",
      "Processing Record 19 of Set 3 : pamplonita\n",
      "Processing Record 20 of Set 3 : egvekinot\n",
      "Processing Record 21 of Set 3 : cap malheureux\n",
      "Processing Record 22 of Set 3 : kirillov\n",
      "Processing Record 23 of Set 3 : sitka\n",
      "Processing Record 24 of Set 3 : shimoda\n",
      "Processing Record 25 of Set 3 : beisfjord\n",
      "Processing Record 26 of Set 3 : nara\n",
      "Processing Record 27 of Set 3 : acapulco\n",
      "Processing Record 28 of Set 3 : cape town\n",
      "Processing Record 29 of Set 3 : hoquiam\n",
      "Processing Record 30 of Set 3 : galeana\n",
      "Processing Record 31 of Set 3 : bombay\n",
      "Processing Record 32 of Set 3 : dikson\n",
      "Processing Record 33 of Set 3 : vysokogornyy\n",
      "Processing Record 34 of Set 3 : maceio\n",
      "City not found. Skipping...\n",
      "Processing Record 35 of Set 3 : tarata\n",
      "Processing Record 36 of Set 3 : mar del plata\n",
      "Processing Record 37 of Set 3 : rurrenabaque\n",
      "Processing Record 38 of Set 3 : melnikovo\n",
      "Processing Record 39 of Set 3 : tasiilaq\n",
      "Processing Record 40 of Set 3 : yeppoon\n",
      "Processing Record 41 of Set 3 : nanortalik\n",
      "Processing Record 42 of Set 3 : yanam\n",
      "City not found. Skipping...\n",
      "Processing Record 43 of Set 3 : ribeira grande\n",
      "Processing Record 44 of Set 3 : quirinopolis\n",
      "Processing Record 45 of Set 3 : ampanihy\n",
      "Processing Record 46 of Set 3 : payson\n",
      "City not found. Skipping...\n",
      "Processing Record 47 of Set 3 : sao joao da barra\n",
      "Processing Record 48 of Set 3 : araouane\n",
      "City not found. Skipping...\n",
      "Processing Record 49 of Set 3 : aksarka\n",
      "Processing Record 50 of Set 3 : pizhanka\n",
      "Processing Record 0 of Set 4 : fujin\n",
      "City not found. Skipping...\n",
      "Processing Record 1 of Set 4 : bengkulu\n",
      "Processing Record 2 of Set 4 : severo-kurilsk\n",
      "Processing Record 3 of Set 4 : madingou\n",
      "Processing Record 4 of Set 4 : iisalmi\n",
      "Processing Record 5 of Set 4 : vardo\n",
      "Processing Record 6 of Set 4 : shu\n",
      "Processing Record 7 of Set 4 : vershino-shakhtaminskiy\n",
      "City not found. Skipping...\n",
      "Processing Record 8 of Set 4 : mount gambier\n",
      "Processing Record 9 of Set 4 : pangai\n",
      "Processing Record 10 of Set 4 : daru\n",
      "Processing Record 11 of Set 4 : lompoc\n",
      "Processing Record 12 of Set 4 : bethel\n",
      "Processing Record 13 of Set 4 : kutum\n",
      "Processing Record 14 of Set 4 : kathmandu\n",
      "Processing Record 15 of Set 4 : baykit\n",
      "Processing Record 16 of Set 4 : hobart\n",
      "Processing Record 17 of Set 4 : leshukonskoye\n",
      "Processing Record 18 of Set 4 : kahului\n",
      "City not found. Skipping...\n",
      "Processing Record 19 of Set 4 : kampot\n",
      "Processing Record 20 of Set 4 : cabo san lucas\n",
      "Processing Record 21 of Set 4 : imbituba\n",
      "Processing Record 22 of Set 4 : longyearbyen\n",
      "City not found. Skipping...\n",
      "Processing Record 23 of Set 4 : chipinge\n",
      "City not found. Skipping...\n",
      "Processing Record 24 of Set 4 : mehamn\n",
      "Processing Record 25 of Set 4 : frutigen\n",
      "Processing Record 26 of Set 4 : korcula\n",
      "Processing Record 27 of Set 4 : sol-iletsk\n",
      "Processing Record 28 of Set 4 : muzhi\n",
      "Processing Record 29 of Set 4 : uvira\n",
      "Processing Record 30 of Set 4 : bushehr\n",
      "Processing Record 31 of Set 4 : khatanga\n",
      "Processing Record 32 of Set 4 : laguna\n",
      "Processing Record 33 of Set 4 : gotsu\n",
      "Processing Record 34 of Set 4 : ponta do sol\n",
      "Processing Record 35 of Set 4 : alexander city\n",
      "Processing Record 36 of Set 4 : sola\n",
      "City not found. Skipping...\n",
      "Processing Record 37 of Set 4 : novikovo\n",
      "Processing Record 38 of Set 4 : halmstad\n",
      "Processing Record 39 of Set 4 : cozumel\n",
      "Processing Record 40 of Set 4 : komsomolskiy\n",
      "Processing Record 41 of Set 4 : marawi\n",
      "Processing Record 42 of Set 4 : sur\n",
      "Processing Record 43 of Set 4 : touho\n",
      "Processing Record 44 of Set 4 : maragogi\n",
      "Processing Record 45 of Set 4 : yellowknife\n",
      "Processing Record 46 of Set 4 : charters towers\n",
      "Processing Record 47 of Set 4 : souillac\n",
      "Processing Record 48 of Set 4 : provideniya\n",
      "Processing Record 49 of Set 4 : ola\n",
      "Processing Record 50 of Set 4 : port elizabeth\n",
      "Processing Record 0 of Set 5 : tura\n",
      "Processing Record 1 of Set 5 : kibala\n",
      "Processing Record 2 of Set 5 : arraial do cabo\n",
      "Processing Record 3 of Set 5 : touros\n",
      "Processing Record 4 of Set 5 : saint-augustin\n",
      "Processing Record 5 of Set 5 : sao filipe\n",
      "Processing Record 6 of Set 5 : esperance\n",
      "Processing Record 7 of Set 5 : nicoya\n",
      "Processing Record 8 of Set 5 : el guamo\n",
      "Processing Record 9 of Set 5 : jiuquan\n",
      "Processing Record 10 of Set 5 : sabha\n",
      "Processing Record 11 of Set 5 : kaeo\n",
      "Processing Record 12 of Set 5 : dir\n",
      "Processing Record 13 of Set 5 : vao\n",
      "Processing Record 14 of Set 5 : quatre cocos\n",
      "Processing Record 15 of Set 5 : hit\n",
      "City not found. Skipping...\n",
      "Processing Record 16 of Set 5 : airai\n",
      "Processing Record 17 of Set 5 : bathsheba\n",
      "Processing Record 18 of Set 5 : cururupu\n",
      "Processing Record 19 of Set 5 : sinnamary\n",
      "Processing Record 20 of Set 5 : dongsheng\n",
      "Processing Record 21 of Set 5 : oistins\n",
      "Processing Record 22 of Set 5 : coahuayana\n",
      "Processing Record 23 of Set 5 : avarua\n",
      "Processing Record 24 of Set 5 : anaconda\n",
      "Processing Record 25 of Set 5 : nova russas\n",
      "Processing Record 26 of Set 5 : la baneza\n",
      "Processing Record 27 of Set 5 : auki\n",
      "Processing Record 28 of Set 5 : aksay\n",
      "Processing Record 29 of Set 5 : klaksvik\n",
      "Processing Record 30 of Set 5 : olinda\n",
      "Processing Record 31 of Set 5 : rocha\n",
      "City not found. Skipping...\n",
      "City not found. Skipping...\n",
      "Processing Record 32 of Set 5 : kapit\n",
      "Processing Record 33 of Set 5 : khambhat\n",
      "Processing Record 34 of Set 5 : yulara\n",
      "Processing Record 35 of Set 5 : georgetown\n",
      "Processing Record 36 of Set 5 : bratsk\n",
      "Processing Record 37 of Set 5 : hasaki\n",
      "Processing Record 38 of Set 5 : pacific grove\n",
      "Processing Record 39 of Set 5 : pevek\n",
      "Processing Record 40 of Set 5 : richards bay\n",
      "Processing Record 41 of Set 5 : luwingu\n",
      "Processing Record 42 of Set 5 : waingapu\n",
      "Processing Record 43 of Set 5 : meulaboh\n",
      "Processing Record 44 of Set 5 : cayenne\n",
      "City not found. Skipping...\n",
      "Processing Record 45 of Set 5 : waipawa\n",
      "Processing Record 46 of Set 5 : taoudenni\n",
      "Processing Record 47 of Set 5 : vila\n",
      "Processing Record 48 of Set 5 : kinsale\n",
      "City not found. Skipping...\n",
      "City not found. Skipping...\n",
      "Processing Record 49 of Set 5 : upernavik\n",
      "Processing Record 50 of Set 5 : puerto escondido\n",
      "Processing Record 0 of Set 6 : shetpe\n",
      "Processing Record 1 of Set 6 : miandrivazo\n",
      "Processing Record 2 of Set 6 : atasu\n",
      "Processing Record 3 of Set 6 : margate\n",
      "Processing Record 4 of Set 6 : bouna\n",
      "Processing Record 5 of Set 6 : sabang\n",
      "Processing Record 6 of Set 6 : bambous virieux\n",
      "Processing Record 7 of Set 6 : stykkisholmur\n",
      "Processing Record 8 of Set 6 : chapais\n",
      "Processing Record 9 of Set 6 : abu samrah\n",
      "Processing Record 10 of Set 6 : suoyarvi\n",
      "Processing Record 11 of Set 6 : tongren\n",
      "Processing Record 12 of Set 6 : irbeyskoye\n",
      "Processing Record 13 of Set 6 : setermoen\n",
      "Processing Record 14 of Set 6 : zhangye\n",
      "City not found. Skipping...\n",
      "Processing Record 15 of Set 6 : pakdasht\n",
      "Processing Record 16 of Set 6 : antalaha\n",
      "Processing Record 17 of Set 6 : rabat\n",
      "Processing Record 18 of Set 6 : prince rupert\n",
      "Processing Record 19 of Set 6 : alihe\n",
      "Processing Record 20 of Set 6 : kedrovyy\n",
      "City not found. Skipping...\n",
      "Processing Record 21 of Set 6 : kidal\n",
      "Processing Record 22 of Set 6 : fortuna\n",
      "Processing Record 23 of Set 6 : horni briza\n",
      "Processing Record 24 of Set 6 : tadine\n",
      "Processing Record 25 of Set 6 : andilamena\n",
      "Processing Record 26 of Set 6 : bafoulabe\n",
      "Processing Record 27 of Set 6 : itaituba\n",
      "Processing Record 28 of Set 6 : morehead\n",
      "Processing Record 29 of Set 6 : olimpia\n",
      "Processing Record 30 of Set 6 : half moon bay\n",
      "Processing Record 31 of Set 6 : altay\n",
      "Processing Record 32 of Set 6 : bougouni\n",
      "Processing Record 33 of Set 6 : salinas\n",
      "Processing Record 34 of Set 6 : molina\n",
      "Processing Record 35 of Set 6 : deputatskiy\n",
      "Processing Record 36 of Set 6 : igrim\n",
      "Processing Record 37 of Set 6 : mattru\n",
      "Processing Record 38 of Set 6 : khandbari\n",
      "Processing Record 39 of Set 6 : talnakh\n",
      "Processing Record 40 of Set 6 : mackay\n",
      "Processing Record 41 of Set 6 : acarau\n",
      "Processing Record 42 of Set 6 : tubuala\n",
      "Processing Record 43 of Set 6 : kushmurun\n",
      "Processing Record 44 of Set 6 : moron\n",
      "Processing Record 45 of Set 6 : guarapari\n",
      "Processing Record 46 of Set 6 : galle\n",
      "Processing Record 47 of Set 6 : milkovo\n",
      "Processing Record 48 of Set 6 : zhucheng\n",
      "Processing Record 49 of Set 6 : kiama\n",
      "Processing Record 50 of Set 6 : yumen\n",
      "Processing Record 0 of Set 7 : bestobe\n",
      "Processing Record 1 of Set 7 : vieques\n",
      "Processing Record 2 of Set 7 : deogarh\n",
      "Processing Record 3 of Set 7 : tuatapere\n",
      "Processing Record 4 of Set 7 : matagami\n",
      "Processing Record 5 of Set 7 : derzhavinsk\n",
      "Processing Record 6 of Set 7 : san fernando\n",
      "Processing Record 7 of Set 7 : omboue\n",
      "Processing Record 8 of Set 7 : honiara\n",
      "Processing Record 9 of Set 7 : zlobin\n",
      "Processing Record 10 of Set 7 : paso de los toros\n",
      "Processing Record 11 of Set 7 : port hedland\n",
      "Processing Record 12 of Set 7 : tual\n",
      "Processing Record 13 of Set 7 : lebyazhye\n",
      "Processing Record 14 of Set 7 : staryy nadym\n",
      "Processing Record 15 of Set 7 : kang\n",
      "Processing Record 16 of Set 7 : minab\n",
      "Processing Record 17 of Set 7 : gejiu\n",
      "Processing Record 18 of Set 7 : las vegas\n",
      "Processing Record 19 of Set 7 : lindi\n",
      "Processing Record 20 of Set 7 : muravlenko\n",
      "Processing Record 21 of Set 7 : tomatlan\n",
      "Processing Record 22 of Set 7 : mega\n",
      "Processing Record 23 of Set 7 : kannur\n",
      "Processing Record 24 of Set 7 : mocuba\n",
      "Processing Record 25 of Set 7 : arlit\n",
      "Processing Record 26 of Set 7 : nagato\n",
      "Processing Record 27 of Set 7 : port hardy\n",
      "Processing Record 28 of Set 7 : henties bay\n",
      "Processing Record 29 of Set 7 : zharkent\n",
      "Processing Record 30 of Set 7 : dubai\n",
      "City not found. Skipping...\n",
      "Processing Record 31 of Set 7 : san cristobal\n",
      "Processing Record 32 of Set 7 : nurota\n",
      "Processing Record 33 of Set 7 : mazarron\n",
      "Processing Record 34 of Set 7 : tukrah\n",
      "Processing Record 35 of Set 7 : nandaime\n",
      "Processing Record 36 of Set 7 : beloha\n",
      "Processing Record 37 of Set 7 : alakurtti\n",
      "Processing Record 38 of Set 7 : vitim\n",
      "Processing Record 39 of Set 7 : arequipa\n",
      "Processing Record 40 of Set 7 : tigil\n",
      "Processing Record 41 of Set 7 : bam\n",
      "Processing Record 42 of Set 7 : camacupa\n",
      "Processing Record 43 of Set 7 : vicksburg\n",
      "Processing Record 44 of Set 7 : quata\n",
      "Processing Record 45 of Set 7 : koumac\n",
      "Processing Record 46 of Set 7 : blairmore\n",
      "Processing Record 47 of Set 7 : luderitz\n",
      "Processing Record 48 of Set 7 : sheridan\n",
      "Processing Record 49 of Set 7 : bonavista\n",
      "Processing Record 50 of Set 7 : pontes e lacerda\n",
      "City not found. Skipping...\n",
      "Processing Record 0 of Set 8 : panaba\n",
      "City not found. Skipping...\n",
      "Processing Record 1 of Set 8 : grindavik\n",
      "Processing Record 2 of Set 8 : pangnirtung\n",
      "Processing Record 3 of Set 8 : hornepayne\n",
      "Processing Record 4 of Set 8 : ossora\n",
      "Processing Record 5 of Set 8 : valdivia\n",
      "Processing Record 6 of Set 8 : lata\n",
      "Processing Record 7 of Set 8 : lauingen\n",
      "Processing Record 8 of Set 8 : urman\n",
      "Processing Record 9 of Set 8 : kandiari\n",
      "Processing Record 10 of Set 8 : pokhara\n",
      "Processing Record 11 of Set 8 : ugoofaaru\n",
      "Processing Record 12 of Set 8 : marrakesh\n",
      "Processing Record 13 of Set 8 : ippy\n",
      "Processing Record 14 of Set 8 : fairbanks\n",
      "Processing Record 15 of Set 8 : ketchikan\n",
      "Processing Record 16 of Set 8 : camargo\n",
      "Processing Record 17 of Set 8 : mataram\n",
      "Processing Record 18 of Set 8 : leh\n",
      "Processing Record 19 of Set 8 : ornskoldsvik\n",
      "Processing Record 20 of Set 8 : poum\n",
      "Processing Record 21 of Set 8 : chico\n",
      "Processing Record 22 of Set 8 : molochnoye\n",
      "City not found. Skipping...\n",
      "Processing Record 23 of Set 8 : knysna\n",
      "Processing Record 24 of Set 8 : luanda\n",
      "Processing Record 25 of Set 8 : ewa beach\n",
      "Processing Record 26 of Set 8 : vilhena\n",
      "Processing Record 27 of Set 8 : sibolga\n",
      "Processing Record 28 of Set 8 : teacapan\n",
      "Processing Record 29 of Set 8 : abalak\n",
      "Processing Record 30 of Set 8 : kieta\n",
      "Processing Record 31 of Set 8 : demba\n",
      "Processing Record 32 of Set 8 : jacareacanga\n",
      "Processing Record 33 of Set 8 : kamenka\n",
      "Processing Record 34 of Set 8 : viedma\n",
      "Processing Record 35 of Set 8 : bowling green\n",
      "Processing Record 36 of Set 8 : morelia\n",
      "Processing Record 37 of Set 8 : louis trichardt\n",
      "Processing Record 38 of Set 8 : zinder\n",
      "City not found. Skipping...\n",
      "Processing Record 39 of Set 8 : saint-pierre\n",
      "Processing Record 40 of Set 8 : vila franca do campo\n",
      "Processing Record 41 of Set 8 : kavaratti\n",
      "Processing Record 42 of Set 8 : elko\n",
      "Processing Record 43 of Set 8 : madinat sittah uktubar\n",
      "Processing Record 44 of Set 8 : rio claro\n",
      "City not found. Skipping...\n",
      "Processing Record 45 of Set 8 : moose factory\n",
      "Processing Record 46 of Set 8 : lorengau\n",
      "Processing Record 47 of Set 8 : karratha\n",
      "Processing Record 48 of Set 8 : joaima\n",
      "Processing Record 49 of Set 8 : yurty\n",
      "Processing Record 50 of Set 8 : bubaque\n",
      "Processing Record 0 of Set 9 : tautira\n",
      "Processing Record 1 of Set 9 : converse\n",
      "Processing Record 2 of Set 9 : new ipswich\n",
      "Processing Record 3 of Set 9 : nishihara\n",
      "Processing Record 4 of Set 9 : port moresby\n",
      "Processing Record 5 of Set 9 : invermere\n",
      "Processing Record 6 of Set 9 : aswan\n",
      "Processing Record 7 of Set 9 : malakal\n",
      "Processing Record 8 of Set 9 : ulaangom\n",
      "Processing Record 9 of Set 9 : evensk\n",
      "Processing Record 10 of Set 9 : tatarskaya kargala\n",
      "Processing Record 11 of Set 9 : lufilufi\n",
      "Processing Record 12 of Set 9 : la ronge\n",
      "Processing Record 13 of Set 9 : antofagasta\n",
      "Processing Record 14 of Set 9 : rawson\n",
      "Processing Record 15 of Set 9 : alexandria\n",
      "Processing Record 16 of Set 9 : geraldton\n",
      "Processing Record 17 of Set 9 : raga\n",
      "Processing Record 18 of Set 9 : lubango\n",
      "Processing Record 19 of Set 9 : altamont\n",
      "Processing Record 20 of Set 9 : iqaluit\n",
      "Processing Record 21 of Set 9 : inuvik\n",
      "City not found. Skipping...\n",
      "Processing Record 22 of Set 9 : kribi\n",
      "Processing Record 23 of Set 9 : huilong\n",
      "Processing Record 24 of Set 9 : roma\n",
      "Processing Record 25 of Set 9 : victoria\n",
      "Processing Record 26 of Set 9 : taree\n",
      "Processing Record 27 of Set 9 : san ramon\n",
      "Processing Record 28 of Set 9 : marienburg\n",
      "City not found. Skipping...\n",
      "Processing Record 29 of Set 9 : kudahuvadhoo\n",
      "Processing Record 30 of Set 9 : lampazos de naranjo\n",
      "City not found. Skipping...\n",
      "Processing Record 31 of Set 9 : port victoria\n",
      "Processing Record 32 of Set 9 : soe\n",
      "Processing Record 33 of Set 9 : quebrangulo\n",
      "Processing Record 34 of Set 9 : spencer\n",
      "Processing Record 35 of Set 9 : planadas\n",
      "Processing Record 36 of Set 9 : saint-georges\n",
      "Processing Record 37 of Set 9 : launceston\n",
      "Processing Record 38 of Set 9 : tecoanapa\n",
      "City not found. Skipping...\n",
      "Processing Record 39 of Set 9 : surgut\n",
      "Processing Record 40 of Set 9 : cabinda\n",
      "Processing Record 41 of Set 9 : lagoa\n",
      "Processing Record 42 of Set 9 : saint-prosper\n",
      "City not found. Skipping...\n",
      "Processing Record 43 of Set 9 : nsanje\n",
      "Processing Record 44 of Set 9 : binuang\n",
      "Processing Record 45 of Set 9 : shingu\n",
      "Processing Record 46 of Set 9 : longjiang\n",
      "Processing Record 47 of Set 9 : dubti\n",
      "Processing Record 48 of Set 9 : progreso\n",
      "Processing Record 49 of Set 9 : navashino\n",
      "Processing Record 50 of Set 9 : bolshoy lug\n",
      "Processing Record 0 of Set 10 : badvel\n",
      "Processing Record 1 of Set 10 : ust-nera\n",
      "Processing Record 2 of Set 10 : ayan\n",
      "City not found. Skipping...\n",
      "Processing Record 3 of Set 10 : vestmanna\n",
      "Processing Record 4 of Set 10 : kandrian\n",
      "Processing Record 5 of Set 10 : sandwick\n",
      "Processing Record 6 of Set 10 : cullera\n",
      "Processing Record 7 of Set 10 : verkhnetulomskiy\n",
      "Processing Record 8 of Set 10 : uri\n",
      "Processing Record 9 of Set 10 : dunedin\n",
      "Processing Record 10 of Set 10 : sao raimundo nonato\n",
      "Processing Record 11 of Set 10 : nuuk\n",
      "Processing Record 12 of Set 10 : marion\n",
      "Processing Record 13 of Set 10 : sula\n",
      "Processing Record 14 of Set 10 : pasaje\n",
      "Processing Record 15 of Set 10 : namatanai\n",
      "Processing Record 16 of Set 10 : russell\n",
      "Processing Record 17 of Set 10 : jalu\n",
      "City not found. Skipping...\n",
      "Processing Record 18 of Set 10 : iguape\n",
      "Processing Record 19 of Set 10 : fort nelson\n",
      "Processing Record 20 of Set 10 : rio grande\n",
      "Processing Record 21 of Set 10 : terryville\n",
      "Processing Record 22 of Set 10 : svetlaya\n",
      "Processing Record 23 of Set 10 : malaya serdoba\n",
      "Processing Record 24 of Set 10 : emerald\n",
      "Processing Record 25 of Set 10 : isangel\n",
      "Processing Record 26 of Set 10 : levelland\n",
      "Processing Record 27 of Set 10 : baijiantan\n",
      "Processing Record 28 of Set 10 : bandarbeyla\n",
      "Processing Record 29 of Set 10 : san jacinto\n",
      "Processing Record 30 of Set 10 : barra patuca\n",
      "Processing Record 31 of Set 10 : loralai\n",
      "Processing Record 32 of Set 10 : punta de bombon\n",
      "Processing Record 33 of Set 10 : anadyr\n",
      "Processing Record 34 of Set 10 : nhulunbuy\n",
      "Processing Record 35 of Set 10 : nysa\n",
      "Processing Record 36 of Set 10 : gariaband\n",
      "Processing Record 37 of Set 10 : prabumulih\n",
      "Processing Record 38 of Set 10 : cananeia\n",
      "Processing Record 39 of Set 10 : cairns\n",
      "Processing Record 40 of Set 10 : conceicao do araguaia\n",
      "City not found. Skipping...\n",
      "Processing Record 41 of Set 10 : pijijiapan\n",
      "Processing Record 42 of Set 10 : chontalpa\n",
      "Processing Record 43 of Set 10 : lazaro cardenas\n",
      "Processing Record 44 of Set 10 : kyzyl\n",
      "Processing Record 45 of Set 10 : madimba\n",
      "Processing Record 46 of Set 10 : solnechnyy\n",
      "Processing Record 47 of Set 10 : pandhurna\n",
      "Processing Record 48 of Set 10 : kropotkin\n",
      "Processing Record 49 of Set 10 : payo\n",
      "Processing Record 50 of Set 10 : xai-xai\n",
      "Processing Record 0 of Set 11 : bentiu\n",
      "Processing Record 1 of Set 11 : vanavara\n",
      "Processing Record 2 of Set 11 : belize\n",
      "City not found. Skipping...\n",
      "Processing Record 3 of Set 11 : botro\n",
      "Processing Record 4 of Set 11 : kondinskoye\n",
      "Processing Record 5 of Set 11 : aranos\n",
      "Processing Record 6 of Set 11 : andenes\n",
      "Processing Record 7 of Set 11 : columbus\n",
      "Processing Record 8 of Set 11 : stabat\n",
      "Processing Record 9 of Set 11 : chippewa falls\n",
      "Processing Record 10 of Set 11 : lusambo\n",
      "Processing Record 11 of Set 11 : kilrush\n",
      "Processing Record 12 of Set 11 : vila velha\n",
      "Processing Record 13 of Set 11 : arona\n",
      "Processing Record 14 of Set 11 : kupang\n",
      "Processing Record 15 of Set 11 : saravan\n",
      "Processing Record 16 of Set 11 : rio gallegos\n",
      "Processing Record 17 of Set 11 : jutai\n",
      "Processing Record 18 of Set 11 : rock sound\n",
      "Processing Record 19 of Set 11 : saint george\n",
      "Processing Record 20 of Set 11 : arcachon\n",
      "Processing Record 21 of Set 11 : udachnyy\n",
      "Processing Record 22 of Set 11 : winnemucca\n",
      "Processing Record 23 of Set 11 : ambunti\n",
      "Processing Record 24 of Set 11 : ixtapa\n",
      "Processing Record 25 of Set 11 : walvis bay\n",
      "Processing Record 26 of Set 11 : manaure\n",
      "Processing Record 27 of Set 11 : codrington\n",
      "Processing Record 28 of Set 11 : khani\n",
      "Processing Record 29 of Set 11 : hovd\n",
      "Processing Record 30 of Set 11 : nemuro\n",
      "Processing Record 31 of Set 11 : snezhnogorsk\n",
      "Processing Record 32 of Set 11 : barcelos\n",
      "Processing Record 33 of Set 11 : zhezkazgan\n",
      "Processing Record 34 of Set 11 : mount darwin\n",
      "Processing Record 35 of Set 11 : kirakira\n",
      "Processing Record 36 of Set 11 : bullhead city\n",
      "Processing Record 37 of Set 11 : vestmannaeyjar\n",
      "Processing Record 38 of Set 11 : yunyang\n",
      "Processing Record 39 of Set 11 : beringovskiy\n",
      "Processing Record 40 of Set 11 : ronne\n",
      "Processing Record 41 of Set 11 : sarosd\n",
      "Processing Record 42 of Set 11 : bicester\n",
      "Processing Record 43 of Set 11 : northam\n",
      "City not found. Skipping...\n",
      "Processing Record 44 of Set 11 : alyangula\n",
      "Processing Record 45 of Set 11 : dandong\n",
      "Processing Record 46 of Set 11 : naze\n",
      "Processing Record 47 of Set 11 : boguchany\n",
      "Processing Record 48 of Set 11 : ryotsu\n",
      "Processing Record 49 of Set 11 : mackenzie\n",
      "Processing Record 50 of Set 11 : aksu\n",
      "Processing Record 0 of Set 12 : boueni\n",
      "Processing Record 1 of Set 12 : owando\n",
      "Processing Record 2 of Set 12 : mwene-ditu\n",
      "Processing Record 3 of Set 12 : neiafu\n",
      "Processing Record 4 of Set 12 : jiujiang\n",
      "Processing Record 5 of Set 12 : atambua\n",
      "City not found. Skipping...\n",
      "Processing Record 6 of Set 12 : emba\n",
      "Processing Record 7 of Set 12 : almaznyy\n",
      "Processing Record 8 of Set 12 : raduzhnyy\n",
      "Processing Record 9 of Set 12 : taywarah\n",
      "Processing Record 10 of Set 12 : warmbad\n",
      "Processing Record 11 of Set 12 : maracaibo\n",
      "Processing Record 12 of Set 12 : lasa\n",
      "City not found. Skipping...\n",
      "Processing Record 13 of Set 12 : krasnoselkup\n",
      "Processing Record 14 of Set 12 : ifo\n",
      "City not found. Skipping...\n",
      "Processing Record 15 of Set 12 : yermakovskoye\n",
      "Processing Record 16 of Set 12 : singapore\n",
      "Processing Record 17 of Set 12 : rock springs\n",
      "Processing Record 18 of Set 12 : diego de almagro\n",
      "City not found. Skipping...\n",
      "Processing Record 19 of Set 12 : zhigansk\n",
      "Processing Record 20 of Set 12 : finschhafen\n",
      "Processing Record 21 of Set 12 : burnie\n",
      "Processing Record 22 of Set 12 : pangody\n",
      "Processing Record 23 of Set 12 : tall kayf\n",
      "City not found. Skipping...\n",
      "Processing Record 24 of Set 12 : munich\n",
      "Processing Record 25 of Set 12 : gao\n",
      "Processing Record 26 of Set 12 : roros\n",
      "Processing Record 27 of Set 12 : coquimbo\n",
      "Processing Record 28 of Set 12 : sokoto\n",
      "Processing Record 29 of Set 12 : kandi\n",
      "Processing Record 30 of Set 12 : hamada\n",
      "Processing Record 31 of Set 12 : simbahan\n",
      "---------------------------------\n",
      "Data Retrieval Complete\n",
      "---------------------------------\n"
     ]
    }
   ],
   "source": [
    "## remember not all cities will be present so be sure to try: except:\n",
    "##for extra finesse you could break this list down into smaller blocks and run it (optional)\n",
    "print(\"Beginning Data Retrieval \")\n",
    "print(\"--------------------------------\")\n",
    "\n",
    "# For each city name in cities list, do below things...\n",
    "for index, city in enumerate(cities, start = 1):\n",
    "    try:\n",
    "        response = requests.get(query_url + city).json()\n",
    "        city_name.append(response[\"name\"])\n",
    "        lat_list.append(response[\"coord\"][\"lat\"])\n",
    "        lng_list.append(response[\"coord\"][\"lon\"])\n",
    "        max_temp.append(response['main']['temp_max'])\n",
    "        humidity.append(response[\"main\"][\"humidity\"])\n",
    "        cloudiness.append(response[\"clouds\"][\"all\"])\n",
    "        wind_speed.append(response[\"wind\"][\"speed\"])\n",
    "        country.append(response[\"sys\"][\"country\"])\n",
    "        date.append(response[\"dt\"])\n",
    "        \n",
    "        if index_counter > 49:\n",
    "            index_counter = 0\n",
    "            set_counter = set_counter + 1\n",
    "    \n",
    "        else:\n",
    "            index_counter = index_counter + 1\n",
    "            \n",
    "        print(f\"Processing Record {index_counter} of Set {set_counter} : {city}\") \n",
    "  \n",
    "    except(KeyError, IndexError):\n",
    "        print(\"City not found. Skipping...\")\n",
    "\n",
    "print(\"---------------------------------\")\n",
    "print(\"Data Retrieval Complete\")\n",
    "print(\"---------------------------------\")\n",
    "\n"
   ]
  },
  {
   "cell_type": "markdown",
   "metadata": {},
   "source": [
    "### Convert Raw Data to DataFrame\n",
    "* Export the city data into a .csv.\n",
    "* Display the DataFrame"
   ]
  },
  {
   "cell_type": "code",
   "execution_count": 5,
   "metadata": {},
   "outputs": [],
   "source": [
    "##remember the output of the previous cell is an array\n",
    "weather_df = pd.DataFrame({ \n",
    "                \"City\" : city_name,\n",
    "                \"Lat\" : lat_list,\n",
    "                \"Lng\" : lng_list,\n",
    "                \"Max Temp\" : max_temp,\n",
    "                \"Humidity\" : humidity,\n",
    "                \"Cloudiness\" : cloudiness,\n",
    "                \"Wind Speed\" : wind_speed,\n",
    "                \"Country\" : country,\n",
    "                \"Date\" : date,\n",
    "})"
   ]
  },
  {
   "cell_type": "code",
   "execution_count": 6,
   "metadata": {},
   "outputs": [],
   "source": [
    "# Save city data into a csv file\n",
    "#  Open the output file\n",
    "weather_df.to_csv(\"cities.csv\", index=False)"
   ]
  },
  {
   "cell_type": "code",
   "execution_count": 7,
   "metadata": {},
   "outputs": [
    {
     "data": {
      "text/html": [
       "<div>\n",
       "<style scoped>\n",
       "    .dataframe tbody tr th:only-of-type {\n",
       "        vertical-align: middle;\n",
       "    }\n",
       "\n",
       "    .dataframe tbody tr th {\n",
       "        vertical-align: top;\n",
       "    }\n",
       "\n",
       "    .dataframe thead th {\n",
       "        text-align: right;\n",
       "    }\n",
       "</style>\n",
       "<table border=\"1\" class=\"dataframe\">\n",
       "  <thead>\n",
       "    <tr style=\"text-align: right;\">\n",
       "      <th></th>\n",
       "      <th>City</th>\n",
       "      <th>Lat</th>\n",
       "      <th>Lng</th>\n",
       "      <th>Max Temp</th>\n",
       "      <th>Humidity</th>\n",
       "      <th>Cloudiness</th>\n",
       "      <th>Wind Speed</th>\n",
       "      <th>Country</th>\n",
       "      <th>Date</th>\n",
       "    </tr>\n",
       "  </thead>\n",
       "  <tbody>\n",
       "    <tr>\n",
       "      <th>0</th>\n",
       "      <td>Punta Arenas</td>\n",
       "      <td>-53.1500</td>\n",
       "      <td>-70.9167</td>\n",
       "      <td>42.91</td>\n",
       "      <td>61</td>\n",
       "      <td>40</td>\n",
       "      <td>19.57</td>\n",
       "      <td>CL</td>\n",
       "      <td>1661632214</td>\n",
       "    </tr>\n",
       "    <tr>\n",
       "      <th>1</th>\n",
       "      <td>Portland</td>\n",
       "      <td>45.5234</td>\n",
       "      <td>-122.6762</td>\n",
       "      <td>73.58</td>\n",
       "      <td>53</td>\n",
       "      <td>75</td>\n",
       "      <td>6.91</td>\n",
       "      <td>US</td>\n",
       "      <td>1661632434</td>\n",
       "    </tr>\n",
       "    <tr>\n",
       "      <th>2</th>\n",
       "      <td>Chokurdakh</td>\n",
       "      <td>70.6333</td>\n",
       "      <td>147.9167</td>\n",
       "      <td>49.03</td>\n",
       "      <td>63</td>\n",
       "      <td>20</td>\n",
       "      <td>6.82</td>\n",
       "      <td>RU</td>\n",
       "      <td>1661632477</td>\n",
       "    </tr>\n",
       "    <tr>\n",
       "      <th>3</th>\n",
       "      <td>College</td>\n",
       "      <td>64.8569</td>\n",
       "      <td>-147.8028</td>\n",
       "      <td>56.59</td>\n",
       "      <td>88</td>\n",
       "      <td>100</td>\n",
       "      <td>0.00</td>\n",
       "      <td>US</td>\n",
       "      <td>1661632478</td>\n",
       "    </tr>\n",
       "    <tr>\n",
       "      <th>4</th>\n",
       "      <td>Nouakchott</td>\n",
       "      <td>18.0858</td>\n",
       "      <td>-15.9785</td>\n",
       "      <td>82.33</td>\n",
       "      <td>81</td>\n",
       "      <td>5</td>\n",
       "      <td>13.42</td>\n",
       "      <td>MR</td>\n",
       "      <td>1661632478</td>\n",
       "    </tr>\n",
       "    <tr>\n",
       "      <th>...</th>\n",
       "      <td>...</td>\n",
       "      <td>...</td>\n",
       "      <td>...</td>\n",
       "      <td>...</td>\n",
       "      <td>...</td>\n",
       "      <td>...</td>\n",
       "      <td>...</td>\n",
       "      <td>...</td>\n",
       "      <td>...</td>\n",
       "    </tr>\n",
       "    <tr>\n",
       "      <th>587</th>\n",
       "      <td>Coquimbo</td>\n",
       "      <td>-29.9533</td>\n",
       "      <td>-71.3436</td>\n",
       "      <td>58.73</td>\n",
       "      <td>77</td>\n",
       "      <td>20</td>\n",
       "      <td>10.36</td>\n",
       "      <td>CL</td>\n",
       "      <td>1661632761</td>\n",
       "    </tr>\n",
       "    <tr>\n",
       "      <th>588</th>\n",
       "      <td>Sokoto</td>\n",
       "      <td>13.0609</td>\n",
       "      <td>5.2390</td>\n",
       "      <td>75.72</td>\n",
       "      <td>83</td>\n",
       "      <td>73</td>\n",
       "      <td>8.93</td>\n",
       "      <td>NG</td>\n",
       "      <td>1661632762</td>\n",
       "    </tr>\n",
       "    <tr>\n",
       "      <th>589</th>\n",
       "      <td>Kandi</td>\n",
       "      <td>11.1342</td>\n",
       "      <td>2.9386</td>\n",
       "      <td>72.68</td>\n",
       "      <td>92</td>\n",
       "      <td>100</td>\n",
       "      <td>5.95</td>\n",
       "      <td>BJ</td>\n",
       "      <td>1661632763</td>\n",
       "    </tr>\n",
       "    <tr>\n",
       "      <th>590</th>\n",
       "      <td>Hamada</td>\n",
       "      <td>34.8833</td>\n",
       "      <td>132.0833</td>\n",
       "      <td>69.24</td>\n",
       "      <td>81</td>\n",
       "      <td>73</td>\n",
       "      <td>9.80</td>\n",
       "      <td>JP</td>\n",
       "      <td>1661632763</td>\n",
       "    </tr>\n",
       "    <tr>\n",
       "      <th>591</th>\n",
       "      <td>Simbahan</td>\n",
       "      <td>6.3032</td>\n",
       "      <td>120.5836</td>\n",
       "      <td>82.67</td>\n",
       "      <td>70</td>\n",
       "      <td>93</td>\n",
       "      <td>7.31</td>\n",
       "      <td>PH</td>\n",
       "      <td>1661632764</td>\n",
       "    </tr>\n",
       "  </tbody>\n",
       "</table>\n",
       "<p>592 rows × 9 columns</p>\n",
       "</div>"
      ],
      "text/plain": [
       "             City      Lat       Lng  Max Temp  Humidity  Cloudiness  \\\n",
       "0    Punta Arenas -53.1500  -70.9167     42.91        61          40   \n",
       "1        Portland  45.5234 -122.6762     73.58        53          75   \n",
       "2      Chokurdakh  70.6333  147.9167     49.03        63          20   \n",
       "3         College  64.8569 -147.8028     56.59        88         100   \n",
       "4      Nouakchott  18.0858  -15.9785     82.33        81           5   \n",
       "..            ...      ...       ...       ...       ...         ...   \n",
       "587      Coquimbo -29.9533  -71.3436     58.73        77          20   \n",
       "588        Sokoto  13.0609    5.2390     75.72        83          73   \n",
       "589         Kandi  11.1342    2.9386     72.68        92         100   \n",
       "590        Hamada  34.8833  132.0833     69.24        81          73   \n",
       "591      Simbahan   6.3032  120.5836     82.67        70          93   \n",
       "\n",
       "     Wind Speed Country        Date  \n",
       "0         19.57      CL  1661632214  \n",
       "1          6.91      US  1661632434  \n",
       "2          6.82      RU  1661632477  \n",
       "3          0.00      US  1661632478  \n",
       "4         13.42      MR  1661632478  \n",
       "..          ...     ...         ...  \n",
       "587       10.36      CL  1661632761  \n",
       "588        8.93      NG  1661632762  \n",
       "589        5.95      BJ  1661632763  \n",
       "590        9.80      JP  1661632763  \n",
       "591        7.31      PH  1661632764  \n",
       "\n",
       "[592 rows x 9 columns]"
      ]
     },
     "execution_count": 7,
     "metadata": {},
     "output_type": "execute_result"
    }
   ],
   "source": [
    "# Display the dataframe\n",
    "weather_df"
   ]
  },
  {
   "cell_type": "markdown",
   "metadata": {},
   "source": [
    "## Inspect the data and remove the cities where the humidity > 100%.\n",
    "----\n",
    "Skip this step if there are no cities that have humidity > 100%. "
   ]
  },
  {
   "cell_type": "code",
   "execution_count": 8,
   "metadata": {},
   "outputs": [],
   "source": [
    "##use loc to filter\n",
    "#  Get the indices of cities that have humidity over 100%.\n",
    "## it's the same loc with .index appended to the end, save this to dataframe for next cell\n"
   ]
  },
  {
   "cell_type": "code",
   "execution_count": 9,
   "metadata": {},
   "outputs": [],
   "source": [
    "# Make a new DataFrame equal to the city data to drop all humidity outliers by index.\n",
    "# Passing \"inplace=False\" will make a copy of the city_data DataFrame, which we call \"clean_city_data\".\n",
    "\n",
    "# Passing \"inplace=False\" will make a copy of the city_data DataFrame, which we call \"clean_city_data\".\n",
    "## syntax for this:\n",
    "########  variable=dataframe.drop(data_to_drop, inplace=\"False\")\n"
   ]
  },
  {
   "cell_type": "code",
   "execution_count": 10,
   "metadata": {},
   "outputs": [],
   "source": [
    "## create a series for each column to be used in the charts\n",
    "## one for each of these: lat, max temp, humidity, cloudiness, wind speed\n",
    "## output the data to csv\n"
   ]
  },
  {
   "cell_type": "markdown",
   "metadata": {},
   "source": [
    "## Plotting the Data\n",
    "* Use proper labeling of the plots using plot titles (including date of analysis) and axes labels.\n",
    "* Save the plotted figures as .pngs."
   ]
  },
  {
   "cell_type": "markdown",
   "metadata": {},
   "source": [
    "## Latitude vs. Temperature Plot"
   ]
  },
  {
   "cell_type": "code",
   "execution_count": 11,
   "metadata": {
    "scrolled": true
   },
   "outputs": [
    {
     "data": {
      "image/png": "[encoded data removed]",
      "text/plain": [
       "<Figure size 432x288 with 1 Axes>"
      ]
     },
     "metadata": {
      "needs_background": "light"
     },
     "output_type": "display_data"
    }
   ],
   "source": [
    "##matplotlib day 1 activities 11&12\n",
    "# Create Latitude vs. Temperature Plot scatter plot\n",
    "plt.scatter(weather_df[\"Lat\"], weather_df[\"Max Temp\"], facecolor = \"blue\", edgecolor = \"black\")\n",
    "\n",
    "plt.title(\"City Latitude vs. Max Temperature\")\n",
    "plt.xlabel(\"Latitude\")\n",
    "plt.ylabel(\"Max Temperature (F)\")\n",
    "plt.grid(linestyle='-', linewidth=1, alpha = 0.5)\n",
    "\n",
    "# Save the plotted figure as .pngs\n",
    "plt.savefig(\"../Images/City Latitude vs Max Temperature.png\")\n"
   ]
  },
  {
   "cell_type": "markdown",
   "metadata": {},
   "source": [
    "## Latitude vs. Humidity Plot"
   ]
  },
  {
   "cell_type": "code",
   "execution_count": 12,
   "metadata": {},
   "outputs": [
    {
     "data": {
      "image/png": "[encoded data removed]",
      "text/plain": [
       "<Figure size 432x288 with 1 Axes>"
      ]
     },
     "metadata": {
      "needs_background": "light"
     },
     "output_type": "display_data"
    }
   ],
   "source": [
    "##matplotlib day 1 activities 11&12\n",
    "## remember to save the figure for submission\n",
    "# Create Latitude vs. Humidity Plot scatter plot\n",
    "plt.scatter(weather_df[\"Lat\"], weather_df[\"Humidity\"], facecolor = \"blue\", edgecolor = \"black\")\n",
    "\n",
    "plt.title(\"City Latitude vs. Humidity\")\n",
    "plt.xlabel(\"Latitude\")\n",
    "plt.ylabel(\"Humidity (%)\")\n",
    "plt.grid(linestyle='-', linewidth=1, alpha = 0.5)\n",
    "\n",
    "# Save the plotted figure as .pngs\n",
    "plt.savefig(\"../Images/City Latitude vs Humidity.png\")"
   ]
  },
  {
   "cell_type": "markdown",
   "metadata": {},
   "source": [
    "## Latitude vs. Cloudiness Plot"
   ]
  },
  {
   "cell_type": "code",
   "execution_count": 13,
   "metadata": {},
   "outputs": [
    {
     "data": {
      "image/png": "[encoded data removed]",
      "text/plain": [
       "<Figure size 432x288 with 1 Axes>"
      ]
     },
     "metadata": {
      "needs_background": "light"
     },
     "output_type": "display_data"
    }
   ],
   "source": [
    "##matplotlib day 1 activities 11&12\n",
    "## remember to save the figure for submission\n",
    "plt.scatter(weather_df[\"Lat\"], weather_df[\"Cloudiness\"], facecolor = \"blue\", edgecolor = \"black\")\n",
    "\n",
    "plt.title(\"City Latitude vs. Cloudiness\")\n",
    "plt.xlabel(\"Latitude\")\n",
    "plt.ylabel(\"Cloudiness (%)\")\n",
    "plt.ylim(-5,105)\n",
    "plt.grid(linestyle='-', linewidth=1, alpha = 0.5)\n",
    "\n",
    "# Save the plotted figure as .pngs\n",
    "plt.savefig(\"../Images/City Latitude vs Cloudiness.png\")"
   ]
  },
  {
   "cell_type": "markdown",
   "metadata": {},
   "source": [
    "## Latitude vs. Wind Speed Plot"
   ]
  },
  {
   "cell_type": "code",
   "execution_count": 14,
   "metadata": {},
   "outputs": [
    {
     "data": {
      "image/png": "[encoded data removed]",
      "text/plain": [
       "<Figure size 432x288 with 1 Axes>"
      ]
     },
     "metadata": {
      "needs_background": "light"
     },
     "output_type": "display_data"
    }
   ],
   "source": [
    "##matplotlib day 1 activities 11&12\n",
    "## remember to save the figure for submission\n",
    "plt.scatter(weather_df[\"Lat\"], weather_df[\"Wind Speed\"], facecolor = \"blue\", edgecolor = \"black\")\n",
    "plt.title(\"City Latitude vs. Wind Speed (mph)\")\n",
    "\n",
    "\n",
    "plt.xlabel(\"Latitude\")\n",
    "plt.ylabel(\"Wind Speed (%)\")\n",
    "plt.ylim(-2,50)\n",
    "plt.grid(linestyle='-', linewidth=1, alpha = 0.5)\n",
    "\n",
    "# Save the plotted figure as .pngs\n",
    "plt.savefig(\"../Images/City Latitude vs Wind Speed (mph).png\")"
   ]
  },
  {
   "cell_type": "markdown",
   "metadata": {},
   "source": [
    "## Linear Regression"
   ]
  },
  {
   "cell_type": "code",
   "execution_count": 15,
   "metadata": {},
   "outputs": [],
   "source": [
    "##create a linear regression function if possible\n",
    "## use the code from MatPlotLib day 3 activity 8\n",
    "## from the linregress call to plt.show() can be ran as a single function\n",
    "## passing in the x_values, y_values, title and where you want the formula to show up\n",
    "## remember to put a little comment about the charts as you go.\n",
    "\n",
    "northern_hemisphere = weather_df.loc[weather_df[\"Lat\"] >= 0]\n",
    "southern_hemisphere = weather_df.loc[weather_df[\"Lat\"] < 0]"
   ]
  },
  {
   "cell_type": "markdown",
   "metadata": {},
   "source": [
    "####  Northern Hemisphere - Max Temp vs. Latitude Linear Regression"
   ]
  },
  {
   "cell_type": "code",
   "execution_count": 29,
   "metadata": {},
   "outputs": [
    {
     "name": "stdout",
     "output_type": "stream",
     "text": [
      "The r-squared is: -0.7094238586352372\n"
     ]
    },
    {
     "data": {
      "image/png": "[encoded data removed]",
      "text/plain": [
       "<Figure size 432x288 with 1 Axes>"
      ]
     },
     "metadata": {
      "needs_background": "light"
     },
     "output_type": "display_data"
    },
    {
     "name": "stdout",
     "output_type": "stream",
     "text": [
      "None\n"
     ]
    },
    {
     "data": {
      "text/plain": [
       "<Figure size 432x288 with 0 Axes>"
      ]
     },
     "metadata": {},
     "output_type": "display_data"
    }
   ],
   "source": [
    "## filter your main dataframe where LAT>0 for Northern, LAT<0 for Southern hemisphere\n",
    "x_values = northern_hemisphere[\"Lat\"]\n",
    "y_values = northern_hemisphere[\"Max Temp\"]\n",
    "\n",
    "def linear_regression(x_values,y_values):\n",
    "    (slope, intercept, rvalue, pvalue, stderr) = linregress(x_values, y_values)\n",
    "    regress_values = x_values * slope + intercept\n",
    "    line_eq = \"y = \" + str(round(slope,2)) + \"x + \" + str(round(intercept,2))\n",
    "    \n",
    "    plt.scatter(x_values,y_values)\n",
    "    plt.plot(x_values,regress_values,\"r-\")\n",
    "    plt.annotate(line_eq,(x_values.median(),y_values.median()),fontsize=15,color=\"red\")\n",
    "    plt.title(\"City Latitude vs. Max Temp (F)\")\n",
    "    plt.xlabel(\"Latitude\")\n",
    "    plt.ylabel(\"Max Temp (F)\")\n",
    "    print(f\"The r-squared is: {rvalue}\")\n",
    "    plt.show()\n",
    "\n",
    "print(linear_regression(x_values,y_values))\n",
    "\n",
    "# Save the figure\n",
    "plt.savefig(\"../Images/Northern Hemisphere - Max Temp vs. Latitude Linear Regression.png\")"
   ]
  },
  {
   "cell_type": "markdown",
   "metadata": {},
   "source": [
    "####  Southern Hemisphere - Max Temp vs. Latitude Linear Regression"
   ]
  },
  {
   "cell_type": "code",
   "execution_count": 32,
   "metadata": {},
   "outputs": [
    {
     "name": "stdout",
     "output_type": "stream",
     "text": [
      "The r-squared is: 0.7982159375606536\n"
     ]
    },
    {
     "data": {
      "image/png": "[encoded data removed]",
      "text/plain": [
       "<Figure size 432x288 with 1 Axes>"
      ]
     },
     "metadata": {
      "needs_background": "light"
     },
     "output_type": "display_data"
    },
    {
     "name": "stdout",
     "output_type": "stream",
     "text": [
      "None\n"
     ]
    },
    {
     "data": {
      "text/plain": [
       "<Figure size 432x288 with 0 Axes>"
      ]
     },
     "metadata": {},
     "output_type": "display_data"
    }
   ],
   "source": [
    "x_values = southern_hemisphere[\"Lat\"]\n",
    "y_values = southern_hemisphere[\"Max Temp\"]\n",
    "\n",
    "plt.title(\"City Latitude vs. Max Temp (F)\")\n",
    "plt.xlabel(\"Latitude\")\n",
    "plt.ylabel(\"Max Temp (F)\")\n",
    "print(linear_regression(x_values,y_values))\n",
    "\n",
    "# Save the figure\n",
    "plt.savefig(\"../Images/Southern Hemisphere - Max Temp vs. Latitude Linear Regression.png\")"
   ]
  },
  {
   "cell_type": "markdown",
   "metadata": {},
   "source": [
    "####  Northern Hemisphere - Humidity (%) vs. Latitude Linear Regression"
   ]
  },
  {
   "cell_type": "code",
   "execution_count": 47,
   "metadata": {},
   "outputs": [
    {
     "name": "stdout",
     "output_type": "stream",
     "text": [
      "The r-squared is: 0.04273364833785998\n"
     ]
    },
    {
     "data": {
      "image/png": "[encoded data removed]",
      "text/plain": [
       "<Figure size 432x288 with 1 Axes>"
      ]
     },
     "metadata": {
      "needs_background": "light"
     },
     "output_type": "display_data"
    },
    {
     "name": "stdout",
     "output_type": "stream",
     "text": [
      "None\n"
     ]
    },
    {
     "data": {
      "text/plain": [
       "<Figure size 432x288 with 0 Axes>"
      ]
     },
     "metadata": {},
     "output_type": "display_data"
    }
   ],
   "source": [
    "x_values = northern_hemisphere[\"Lat\"]\n",
    "y_values = northern_hemisphere[\"Humidity\"]\n",
    "\n",
    "plt.title(\"City Latitude vs. Humidity\")\n",
    "plt.xlabel(\"Latitude\")\n",
    "plt.ylabel(\"Humidity (%)\")\n",
    "print(linear_regression(x_values,y_values))\n",
    "\n",
    "# Save the figure\n",
    "plt.savefig(\"../Images/Northern Hemisphere - Humidity (%) vs. Latitude Linear Regression.png\")"
   ]
  },
  {
   "cell_type": "markdown",
   "metadata": {},
   "source": [
    "####  Southern Hemisphere - Humidity (%) vs. Latitude Linear Regression"
   ]
  },
  {
   "cell_type": "code",
   "execution_count": 34,
   "metadata": {},
   "outputs": [
    {
     "name": "stdout",
     "output_type": "stream",
     "text": [
      "The r-squared is: 0.056178803850697547\n"
     ]
    },
    {
     "data": {
      "image/png": "[encoded data removed]",
      "text/plain": [
       "<Figure size 432x288 with 1 Axes>"
      ]
     },
     "metadata": {
      "needs_background": "light"
     },
     "output_type": "display_data"
    },
    {
     "name": "stdout",
     "output_type": "stream",
     "text": [
      "None\n"
     ]
    },
    {
     "data": {
      "text/plain": [
       "<Figure size 432x288 with 0 Axes>"
      ]
     },
     "metadata": {},
     "output_type": "display_data"
    }
   ],
   "source": [
    "x_values = southern_hemisphere[\"Lat\"]\n",
    "y_values = southern_hemisphere[\"Humidity\"]\n",
    "plt.title(\"City Latitude vs. Humidity\")\n",
    "plt.ylim(0, y_values.max()+50)\n",
    "plt.ylabel(\"Humidity (%)\")\n",
    "print(linear_regression(x_values,y_values))\n",
    "\n",
    "# Save the figure\n",
    "plt.savefig(\"../Images/Southern Hemisphere - Humidity (%) vs. Latitude Linear Regression.png\")"
   ]
  },
  {
   "cell_type": "markdown",
   "metadata": {},
   "source": [
    "####  Northern Hemisphere - Cloudiness (%) vs. Latitude Linear Regression"
   ]
  },
  {
   "cell_type": "code",
   "execution_count": 35,
   "metadata": {},
   "outputs": [
    {
     "name": "stdout",
     "output_type": "stream",
     "text": [
      "The r-squared is: 0.06148936343142501\n"
     ]
    },
    {
     "data": {
      "image/png": "[encoded data removed]",
      "text/plain": [
       "<Figure size 432x288 with 1 Axes>"
      ]
     },
     "metadata": {
      "needs_background": "light"
     },
     "output_type": "display_data"
    },
    {
     "name": "stdout",
     "output_type": "stream",
     "text": [
      "None\n"
     ]
    },
    {
     "data": {
      "text/plain": [
       "<Figure size 432x288 with 0 Axes>"
      ]
     },
     "metadata": {},
     "output_type": "display_data"
    }
   ],
   "source": [
    "x_values = northern_hemisphere[\"Lat\"]\n",
    "y_values = northern_hemisphere[\"Cloudiness\"]\n",
    "plt.title(\"City Latitude vs. Cloudiness\")\n",
    "plt.ylabel(\"Cloudiness\")\n",
    "print(linear_regression(x_values,y_values))\n",
    "\n",
    "# Save the figure\n",
    "plt.savefig(\"../Images/Northern Hemisphere - Cloudiness (%) vs. Latitude Linear Regression.png\")"
   ]
  },
  {
   "cell_type": "markdown",
   "metadata": {},
   "source": [
    "####  Southern Hemisphere - Cloudiness (%) vs. Latitude Linear Regression"
   ]
  },
  {
   "cell_type": "code",
   "execution_count": 36,
   "metadata": {},
   "outputs": [
    {
     "name": "stdout",
     "output_type": "stream",
     "text": [
      "The r-squared is: 0.16559573881344292\n"
     ]
    },
    {
     "data": {
      "image/png": "[encoded data removed]",
      "text/plain": [
       "<Figure size 432x288 with 1 Axes>"
      ]
     },
     "metadata": {
      "needs_background": "light"
     },
     "output_type": "display_data"
    },
    {
     "name": "stdout",
     "output_type": "stream",
     "text": [
      "None\n"
     ]
    },
    {
     "data": {
      "text/plain": [
       "<Figure size 432x288 with 0 Axes>"
      ]
     },
     "metadata": {},
     "output_type": "display_data"
    }
   ],
   "source": [
    "x_values = southern_hemisphere[\"Lat\"]\n",
    "y_values = southern_hemisphere[\"Cloudiness\"]\n",
    "plt.title(\"City Latitude vs. Cloudiness\")\n",
    "plt.ylabel(\"Cloudiness\")\n",
    "print(linear_regression(x_values,y_values))\n",
    "\n",
    "# Save the figure\n",
    "plt.savefig(\"../Images/Southern Hemisphere - Cloudiness (%) vs. Latitude Linear Regression.png\")"
   ]
  },
  {
   "cell_type": "markdown",
   "metadata": {},
   "source": [
    "####  Northern Hemisphere - Wind Speed (mph) vs. Latitude Linear Regression"
   ]
  },
  {
   "cell_type": "code",
   "execution_count": 37,
   "metadata": {},
   "outputs": [
    {
     "name": "stdout",
     "output_type": "stream",
     "text": [
      "The r-squared is: -0.030263004802705402\n"
     ]
    },
    {
     "data": {
      "image/png": "[encoded data removed]",
      "text/plain": [
       "<Figure size 432x288 with 1 Axes>"
      ]
     },
     "metadata": {
      "needs_background": "light"
     },
     "output_type": "display_data"
    },
    {
     "name": "stdout",
     "output_type": "stream",
     "text": [
      "None\n"
     ]
    },
    {
     "data": {
      "text/plain": [
       "<Figure size 432x288 with 0 Axes>"
      ]
     },
     "metadata": {},
     "output_type": "display_data"
    }
   ],
   "source": [
    "x_values = northern_hemisphere[\"Lat\"]\n",
    "y_values = northern_hemisphere[\"Wind Speed\"]\n",
    "plt.title(\"City Latitude vs. Wind Speed\")\n",
    "plt.ylabel(\"Wind Speed\")\n",
    "print(linear_regression(x_values,y_values))\n",
    "\n",
    "# Save the figure\n",
    "plt.savefig(\"../Images/Northern Hemisphere - Wind Speed vs. Latitude Linear Regression.png\")\n"
   ]
  },
  {
   "cell_type": "markdown",
   "metadata": {},
   "source": [
    "####  Southern Hemisphere - Wind Speed (mph) vs. Latitude Linear Regression"
   ]
  },
  {
   "cell_type": "code",
   "execution_count": 38,
   "metadata": {},
   "outputs": [
    {
     "name": "stdout",
     "output_type": "stream",
     "text": [
      "The r-squared is: -0.24581305233462536\n"
     ]
    },
    {
     "data": {
      "image/png": "[encoded data removed]",
      "text/plain": [
       "<Figure size 432x288 with 1 Axes>"
      ]
     },
     "metadata": {
      "needs_background": "light"
     },
     "output_type": "display_data"
    },
    {
     "name": "stdout",
     "output_type": "stream",
     "text": [
      "None\n"
     ]
    },
    {
     "data": {
      "text/plain": [
       "<Figure size 432x288 with 0 Axes>"
      ]
     },
     "metadata": {},
     "output_type": "display_data"
    }
   ],
   "source": [
    "x_values = southern_hemisphere[\"Lat\"]\n",
    "y_values = southern_hemisphere[\"Wind Speed\"]\n",
    "plt.title(\"City Latitude vs. Wind Speed\")\n",
    "plt.ylabel(\"Wind Speed\")\n",
    "print(linear_regression(x_values,y_values))\n",
    "\n",
    "# Save the figure\n",
    "plt.savefig(\"../Images/Southern Hemisphere - Wind Speed vs. Latitude Linear Regression.png\")"
   ]
  }
 ],
 "metadata": {
  "anaconda-cloud": {},
  "kernel_info": {
   "name": "python3"
  },
  "kernelspec": {
   "display_name": "Python 3.9.12 ('base')",
   "language": "python",
   "name": "python3"
  },
  "language_info": {
   "codemirror_mode": {
    "name": "ipython",
    "version": 3
   },
   "file_extension": ".py",
   "mimetype": "text/x-python",
   "name": "python",
   "nbconvert_exporter": "python",
   "pygments_lexer": "ipython3",
   "version": "3.9.12"
  },
  "latex_envs": {
   "LaTeX_envs_menu_present": true,
   "autoclose": false,
   "autocomplete": true,
   "bibliofile": "biblio.bib",
   "cite_by": "apalike",
   "current_citInitial": 1,
   "eqLabelWithNumbers": true,
   "eqNumInitial": 1,
   "hotkeys": {
    "equation": "Ctrl-E",
    "itemize": "Ctrl-I"
   },
   "labels_anchors": false,
   "latex_user_defs": false,
   "report_style_numbering": false,
   "user_envs_cfg": false
  },
  "nteract": {
   "version": "0.12.3"
  },
  "vscode": {
   "interpreter": {
    "hash": "8e0360c4ed26948718f807543792babe073cfa91cf6f30cc2ef0a783d6f93278"
   }
  }
 },
 "nbformat": 4,
 "nbformat_minor": 2
}
